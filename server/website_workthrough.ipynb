{
 "cells": [
  {
   "cell_type": "code",
   "execution_count": 1,
   "metadata": {
    "ExecuteTime": {
     "end_time": "2021-12-20T20:43:35.850086Z",
     "start_time": "2021-12-20T20:43:33.400852Z"
    }
   },
   "outputs": [],
   "source": [
    "import json\n",
    "from pathlib import Path\n",
    "import re\n",
    "\n",
    "from gensim.models import Word2Vec\n",
    "import pandas as pd\n",
    "import plydata as ply"
   ]
  },
  {
   "cell_type": "code",
   "execution_count": 2,
   "metadata": {
    "ExecuteTime": {
     "end_time": "2021-12-20T20:43:35.853731Z",
     "start_time": "2021-12-20T20:43:35.851477Z"
    }
   },
   "outputs": [],
   "source": [
    "data_folder = Path(\"data\")\n",
    "tok = \"pandemic\""
   ]
  },
  {
   "cell_type": "markdown",
   "metadata": {},
   "source": [
    "# Extract the frequencies"
   ]
  },
  {
   "cell_type": "code",
   "execution_count": 3,
   "metadata": {
    "ExecuteTime": {
     "end_time": "2021-12-20T20:43:44.186399Z",
     "start_time": "2021-12-20T20:43:35.855129Z"
    }
   },
   "outputs": [
    {
     "data": {
      "text/html": [
       "<div>\n",
       "<style scoped>\n",
       "    .dataframe tbody tr th:only-of-type {\n",
       "        vertical-align: middle;\n",
       "    }\n",
       "\n",
       "    .dataframe tbody tr th {\n",
       "        vertical-align: top;\n",
       "    }\n",
       "\n",
       "    .dataframe thead th {\n",
       "        text-align: right;\n",
       "    }\n",
       "</style>\n",
       "<table border=\"1\" class=\"dataframe\">\n",
       "  <thead>\n",
       "    <tr style=\"text-align: right;\">\n",
       "      <th></th>\n",
       "      <th>tok</th>\n",
       "      <th>word_count</th>\n",
       "      <th>year</th>\n",
       "      <th>frequency</th>\n",
       "    </tr>\n",
       "  </thead>\n",
       "  <tbody>\n",
       "    <tr>\n",
       "      <th>0</th>\n",
       "      <td>\\</td>\n",
       "      <td>87283.0</td>\n",
       "      <td>2000.0</td>\n",
       "      <td>0.088504</td>\n",
       "    </tr>\n",
       "    <tr>\n",
       "      <th>1</th>\n",
       "      <td>the</td>\n",
       "      <td>38877.0</td>\n",
       "      <td>2000.0</td>\n",
       "      <td>0.039421</td>\n",
       "    </tr>\n",
       "    <tr>\n",
       "      <th>2</th>\n",
       "      <td>of</td>\n",
       "      <td>35677.0</td>\n",
       "      <td>2000.0</td>\n",
       "      <td>0.036176</td>\n",
       "    </tr>\n",
       "    <tr>\n",
       "      <th>3</th>\n",
       "      <td>,</td>\n",
       "      <td>33131.0</td>\n",
       "      <td>2000.0</td>\n",
       "      <td>0.033594</td>\n",
       "    </tr>\n",
       "    <tr>\n",
       "      <th>4</th>\n",
       "      <td>\\.</td>\n",
       "      <td>32263.0</td>\n",
       "      <td>2000.0</td>\n",
       "      <td>0.032714</td>\n",
       "    </tr>\n",
       "  </tbody>\n",
       "</table>\n",
       "</div>"
      ],
      "text/plain": [
       "   tok  word_count    year  frequency\n",
       "0   \\      87283.0  2000.0   0.088504\n",
       "1  the     38877.0  2000.0   0.039421\n",
       "2   of     35677.0  2000.0   0.036176\n",
       "3    ,     33131.0  2000.0   0.033594\n",
       "4   \\.     32263.0  2000.0   0.032714"
      ]
     },
     "execution_count": 3,
     "metadata": {},
     "output_type": "execute_result"
    }
   ],
   "source": [
    "frequency_table = pd.read_csv(data_folder/Path(\"all_tok_frequencies.tsv.xz\"), sep=\"\\t\")\n",
    "frequency_table >> ply.slice_rows(5)"
   ]
  },
  {
   "cell_type": "code",
   "execution_count": 4,
   "metadata": {
    "ExecuteTime": {
     "end_time": "2021-12-20T20:43:44.609924Z",
     "start_time": "2021-12-20T20:43:44.188015Z"
    }
   },
   "outputs": [
    {
     "data": {
      "text/html": [
       "<div>\n",
       "<style scoped>\n",
       "    .dataframe tbody tr th:only-of-type {\n",
       "        vertical-align: middle;\n",
       "    }\n",
       "\n",
       "    .dataframe tbody tr th {\n",
       "        vertical-align: top;\n",
       "    }\n",
       "\n",
       "    .dataframe thead th {\n",
       "        text-align: right;\n",
       "    }\n",
       "</style>\n",
       "<table border=\"1\" class=\"dataframe\">\n",
       "  <thead>\n",
       "    <tr style=\"text-align: right;\">\n",
       "      <th></th>\n",
       "      <th>year</th>\n",
       "      <th>frequency</th>\n",
       "    </tr>\n",
       "  </thead>\n",
       "  <tbody>\n",
       "    <tr>\n",
       "      <th>13538</th>\n",
       "      <td>2000</td>\n",
       "      <td>0.000004</td>\n",
       "    </tr>\n",
       "    <tr>\n",
       "      <th>49880</th>\n",
       "      <td>2001</td>\n",
       "      <td>0.000007</td>\n",
       "    </tr>\n",
       "    <tr>\n",
       "      <th>98847</th>\n",
       "      <td>2002</td>\n",
       "      <td>0.000005</td>\n",
       "    </tr>\n",
       "    <tr>\n",
       "      <th>144813</th>\n",
       "      <td>2003</td>\n",
       "      <td>0.000018</td>\n",
       "    </tr>\n",
       "    <tr>\n",
       "      <th>195113</th>\n",
       "      <td>2004</td>\n",
       "      <td>0.000030</td>\n",
       "    </tr>\n",
       "  </tbody>\n",
       "</table>\n",
       "</div>"
      ],
      "text/plain": [
       "        year  frequency\n",
       "13538   2000   0.000004\n",
       "49880   2001   0.000007\n",
       "98847   2002   0.000005\n",
       "144813  2003   0.000018\n",
       "195113  2004   0.000030"
      ]
     },
     "execution_count": 4,
     "metadata": {},
     "output_type": "execute_result"
    }
   ],
   "source": [
    "frequency_output_df = (\n",
    "    frequency_table \n",
    "    >> ply.query(\"tok == @tok\")\n",
    "    >> ply.select(\"year\", \"frequency\")\n",
    "    >> ply.call(\".astype\", {\"year\": int})\n",
    ")\n",
    "frequency_output_df >> ply.slice_rows(5)"
   ]
  },
  {
   "cell_type": "code",
   "execution_count": 5,
   "metadata": {
    "ExecuteTime": {
     "end_time": "2021-12-20T20:43:44.615811Z",
     "start_time": "2021-12-20T20:43:44.611255Z"
    }
   },
   "outputs": [
    {
     "data": {
      "text/plain": [
       "[{'year': 2000, 'frequency': 4.055943630495423e-06},\n",
       " {'year': 2001, 'frequency': 6.786389895065446e-06},\n",
       " {'year': 2002, 'frequency': 5.1355077072966025e-06},\n",
       " {'year': 2003, 'frequency': 1.778797305335538e-05},\n",
       " {'year': 2004, 'frequency': 3.0424223005751603e-05},\n",
       " {'year': 2005, 'frequency': 3.4601975511106074e-05},\n",
       " {'year': 2006, 'frequency': 5.7931767963692365e-05},\n",
       " {'year': 2007, 'frequency': 5.675180686513704e-05},\n",
       " {'year': 2008, 'frequency': 3.050017611075992e-05},\n",
       " {'year': 2009, 'frequency': 3.5469894145988345e-05},\n",
       " {'year': 2010, 'frequency': 5.734690646992077e-05},\n",
       " {'year': 2011, 'frequency': 5.58168691459375e-05},\n",
       " {'year': 2012, 'frequency': 3.0697905868055746e-05},\n",
       " {'year': 2013, 'frequency': 2.7573444518154736e-05},\n",
       " {'year': 2014, 'frequency': 1.6162967709091305e-05},\n",
       " {'year': 2015, 'frequency': 1.2524156165927838e-05},\n",
       " {'year': 2016, 'frequency': 1.0692881251864212e-05},\n",
       " {'year': 2017, 'frequency': 9.682144714067952e-06},\n",
       " {'year': 2018, 'frequency': 9.101056844203044e-06},\n",
       " {'year': 2019, 'frequency': 7.857043298475488e-06},\n",
       " {'year': 2020, 'frequency': 0.0002476614693375}]"
      ]
     },
     "execution_count": 5,
     "metadata": {},
     "output_type": "execute_result"
    }
   ],
   "source": [
    "frequency_output = frequency_output_df >> ply.call('.to_dict', orient='records')\n",
    "frequency_output"
   ]
  },
  {
   "cell_type": "markdown",
   "metadata": {},
   "source": [
    "# Extract Estimated Cutoff Points"
   ]
  },
  {
   "cell_type": "code",
   "execution_count": 6,
   "metadata": {
    "ExecuteTime": {
     "end_time": "2021-12-20T20:43:44.646368Z",
     "start_time": "2021-12-20T20:43:44.617219Z"
    }
   },
   "outputs": [
    {
     "data": {
      "text/html": [
       "<div>\n",
       "<style scoped>\n",
       "    .dataframe tbody tr th:only-of-type {\n",
       "        vertical-align: middle;\n",
       "    }\n",
       "\n",
       "    .dataframe tbody tr th {\n",
       "        vertical-align: top;\n",
       "    }\n",
       "\n",
       "    .dataframe thead th {\n",
       "        text-align: right;\n",
       "    }\n",
       "</style>\n",
       "<table border=\"1\" class=\"dataframe\">\n",
       "  <thead>\n",
       "    <tr style=\"text-align: right;\">\n",
       "      <th></th>\n",
       "      <th>tok</th>\n",
       "      <th>changepoint_idx</th>\n",
       "      <th>start_idx</th>\n",
       "      <th>end_idx</th>\n",
       "      <th>value</th>\n",
       "    </tr>\n",
       "  </thead>\n",
       "  <tbody>\n",
       "    <tr>\n",
       "      <th>0</th>\n",
       "      <td>/17</td>\n",
       "      <td>2011-2012</td>\n",
       "      <td>2010-2011</td>\n",
       "      <td>2011-2012</td>\n",
       "      <td>6.923086</td>\n",
       "    </tr>\n",
       "    <tr>\n",
       "      <th>1</th>\n",
       "      <td>/17</td>\n",
       "      <td>2012-2013</td>\n",
       "      <td>2011-2012</td>\n",
       "      <td>2012-2013</td>\n",
       "      <td>-6.761565</td>\n",
       "    </tr>\n",
       "    <tr>\n",
       "      <th>2</th>\n",
       "      <td>/19</td>\n",
       "      <td>2010-2011</td>\n",
       "      <td>2009-2010</td>\n",
       "      <td>2010-2011</td>\n",
       "      <td>-5.562387</td>\n",
       "    </tr>\n",
       "    <tr>\n",
       "      <th>3</th>\n",
       "      <td>/19b</td>\n",
       "      <td>2019-2020</td>\n",
       "      <td>2018-2019</td>\n",
       "      <td>2019-2020</td>\n",
       "      <td>-10.187657</td>\n",
       "    </tr>\n",
       "    <tr>\n",
       "      <th>4</th>\n",
       "      <td>/2017</td>\n",
       "      <td>2019-2020</td>\n",
       "      <td>2018-2019</td>\n",
       "      <td>2019-2020</td>\n",
       "      <td>5.784376</td>\n",
       "    </tr>\n",
       "  </tbody>\n",
       "</table>\n",
       "</div>"
      ],
      "text/plain": [
       "     tok changepoint_idx  start_idx    end_idx      value\n",
       "0    /17       2011-2012  2010-2011  2011-2012   6.923086\n",
       "1    /17       2012-2013  2011-2012  2012-2013  -6.761565\n",
       "2    /19       2010-2011  2009-2010  2010-2011  -5.562387\n",
       "3   /19b       2019-2020  2018-2019  2019-2020 -10.187657\n",
       "4  /2017       2019-2020  2018-2019  2019-2020   5.784376"
      ]
     },
     "execution_count": 6,
     "metadata": {},
     "output_type": "execute_result"
    }
   ],
   "source": [
    "cutoff_points = pd.read_csv(data_folder/Path(\"cusum_changepoint_abstracts.tsv\"), sep=\"\\t\")\n",
    "cutoff_points >> ply.slice_rows(5)"
   ]
  },
  {
   "cell_type": "code",
   "execution_count": 7,
   "metadata": {
    "ExecuteTime": {
     "end_time": "2021-12-20T20:43:44.654911Z",
     "start_time": "2021-12-20T20:43:44.647709Z"
    }
   },
   "outputs": [
    {
     "data": {
      "text/plain": [
       "[{'changepoint_idx': '2019-2020'}]"
      ]
     },
     "execution_count": 7,
     "metadata": {},
     "output_type": "execute_result"
    }
   ],
   "source": [
    "changepoint_output = (\n",
    "    cutoff_points \n",
    "    >> ply.query(\"tok == @tok\")\n",
    "    >> ply.select(\"changepoint_idx\")\n",
    "    >> ply.call('.to_dict', orient=\"records\")\n",
    ")\n",
    "changepoint_output"
   ]
  },
  {
   "cell_type": "markdown",
   "metadata": {},
   "source": [
    "# Extract the neighbors"
   ]
  },
  {
   "cell_type": "code",
   "execution_count": 8,
   "metadata": {
    "ExecuteTime": {
     "end_time": "2021-12-20T20:43:44.688431Z",
     "start_time": "2021-12-20T20:43:44.655904Z"
    }
   },
   "outputs": [
    {
     "data": {
      "text/plain": [
       "[PosixPath('data/word2vec_models/2003/2003_0.model'),\n",
       " PosixPath('data/word2vec_models/2010/2010_0.model')]"
      ]
     },
     "execution_count": 8,
     "metadata": {},
     "output_type": "execute_result"
    }
   ],
   "source": [
    "word_models = list((data_folder/Path(\"word2vec_models\")).rglob(\"*/*model\"))\n",
    "word_models[0:2]"
   ]
  },
  {
   "cell_type": "code",
   "execution_count": 9,
   "metadata": {
    "ExecuteTime": {
     "end_time": "2021-12-20T20:43:44.731763Z",
     "start_time": "2021-12-20T20:43:44.695767Z"
    }
   },
   "outputs": [],
   "source": [
    "word_model_map = dict()\n",
    "for word_model in word_models:\n",
    "    match_obj = re.search(r\"(\\d+)_(\\d).model\", str(word_model))\n",
    "\n",
    "    year = int(match_obj.group(1))\n",
    "    if year not in word_model_map:\n",
    "        word_model_map[year] = list()\n",
    "\n",
    "    word_model_map[year].append(str(word_model))"
   ]
  },
  {
   "cell_type": "code",
   "execution_count": 10,
   "metadata": {
    "ExecuteTime": {
     "end_time": "2021-12-20T20:46:26.585421Z",
     "start_time": "2021-12-20T20:43:44.733825Z"
    }
   },
   "outputs": [],
   "source": [
    "word_model_loaded_map = {\n",
    "    key: Word2Vec.load(sorted(word_model_map[key])[0]) for key in word_model_map\n",
    "}"
   ]
  },
  {
   "cell_type": "code",
   "execution_count": 11,
   "metadata": {
    "ExecuteTime": {
     "end_time": "2021-12-20T20:46:26.588634Z",
     "start_time": "2021-12-20T20:46:26.586622Z"
    }
   },
   "outputs": [],
   "source": [
    "word_freq_count_cutoff = 30"
   ]
  },
  {
   "cell_type": "code",
   "execution_count": 12,
   "metadata": {
    "ExecuteTime": {
     "end_time": "2021-12-20T20:46:34.663774Z",
     "start_time": "2021-12-20T20:46:26.589975Z"
    }
   },
   "outputs": [],
   "source": [
    "word_model_cutoff_map = {\n",
    "    key: {\n",
    "        \"model\": word_model_loaded_map[key],\n",
    "        \"cutoff_index\": min(\n",
    "            map(\n",
    "                lambda x: 999999\n",
    "                if word_model_loaded_map[key].wv.get_vecattr(x[1], \"count\")\n",
    "                > word_freq_count_cutoff\n",
    "                else x[0],\n",
    "                enumerate(word_model_loaded_map[key].wv.index_to_key),\n",
    "            )\n",
    "        ),\n",
    "    }\n",
    "    for key in word_model_loaded_map\n",
    "}"
   ]
  },
  {
   "cell_type": "code",
   "execution_count": 13,
   "metadata": {
    "ExecuteTime": {
     "end_time": "2021-12-20T20:46:37.822113Z",
     "start_time": "2021-12-20T20:46:34.665094Z"
    }
   },
   "outputs": [],
   "source": [
    "neighbors = 25\n",
    "word_neighbor_map = dict()\n",
    "for year in word_model_cutoff_map:\n",
    "    \n",
    "    # Check to see if token is in the vocab\n",
    "    vocab = list(word_model_cutoff_map[year][\"model\"].wv.key_to_index.keys())\n",
    "    if tok in vocab:\n",
    "        \n",
    "        # If it is grab the neighbors\n",
    "        # Gensim needs to be > 4.0 as they enabled neighbor clipping (remove words from entire vocab)\n",
    "        word_neighbors = word_model_cutoff_map[year][\"model\"].wv.most_similar(\n",
    "            tok, topn=neighbors, clip_end=word_model_cutoff_map[year][\"cutoff_index\"]\n",
    "        )\n",
    "        \n",
    "        # Append neighbor to word_neighbor_map\n",
    "        for neighbor in word_neighbors:\n",
    "            if year not in word_neighbor_map:\n",
    "                word_neighbor_map[year] = list()\n",
    "\n",
    "            word_neighbor_map[year].append(neighbor[0])"
   ]
  },
  {
   "cell_type": "code",
   "execution_count": 14,
   "metadata": {
    "ExecuteTime": {
     "end_time": "2021-12-20T20:46:37.826248Z",
     "start_time": "2021-12-20T20:46:37.823205Z"
    }
   },
   "outputs": [
    {
     "data": {
      "text/plain": [
       "['introduction',\n",
       " 'pathogen',\n",
       " 'isolation',\n",
       " 'genomics',\n",
       " 'materials',\n",
       " 'objectives',\n",
       " 'aims',\n",
       " 'sets',\n",
       " 'toxins',\n",
       " 'numerical',\n",
       " 'background',\n",
       " 'escherichia_coli',\n",
       " 'transmission',\n",
       " 'saudi',\n",
       " 'middle',\n",
       " 'profiles',\n",
       " 'plant',\n",
       " 'comparative',\n",
       " 'commercial',\n",
       " 'debate',\n",
       " 'give',\n",
       " 'theory',\n",
       " 'discussion',\n",
       " 'center',\n",
       " 'framework']"
      ]
     },
     "execution_count": 14,
     "metadata": {},
     "output_type": "execute_result"
    }
   ],
   "source": [
    "word_neighbor_map[2000]"
   ]
  },
  {
   "cell_type": "markdown",
   "metadata": {},
   "source": [
    "# Final Return Object"
   ]
  },
  {
   "cell_type": "markdown",
   "metadata": {},
   "source": [
    "This object doesn't contain the umap plot needed for visualization.\n",
    "On my todolist of things to get done."
   ]
  },
  {
   "cell_type": "code",
   "execution_count": 15,
   "metadata": {
    "ExecuteTime": {
     "end_time": "2021-12-20T20:46:37.870264Z",
     "start_time": "2021-12-20T20:46:37.827313Z"
    }
   },
   "outputs": [],
   "source": [
    "api_return_obj = {\n",
    "    \"neighbors\": word_neighbor_map,\n",
    "    \"frequency\": frequency_output,\n",
    "    \"changepoints\":changepoint_output,\n",
    "}\n",
    "json.dump(api_return_obj, open(\"../pandemic_demo.json\", \"w\"))"
   ]
  }
 ],
 "metadata": {
  "kernelspec": {
   "display_name": "Python [conda env:biovectors]",
   "language": "python",
   "name": "conda-env-biovectors-py"
  },
  "language_info": {
   "codemirror_mode": {
    "name": "ipython",
    "version": 3
   },
   "file_extension": ".py",
   "mimetype": "text/x-python",
   "name": "python",
   "nbconvert_exporter": "python",
   "pygments_lexer": "ipython3",
   "version": "3.7.2"
  },
  "toc": {
   "base_numbering": 1,
   "nav_menu": {},
   "number_sections": true,
   "sideBar": true,
   "skip_h1_title": false,
   "title_cell": "Table of Contents",
   "title_sidebar": "Contents",
   "toc_cell": false,
   "toc_position": {},
   "toc_section_display": true,
   "toc_window_display": false
  }
 },
 "nbformat": 4,
 "nbformat_minor": 2
}
